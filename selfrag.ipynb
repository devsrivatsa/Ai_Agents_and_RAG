{
 "cells": [
  {
   "cell_type": "code",
   "execution_count": 2,
   "metadata": {},
   "outputs": [],
   "source": [
    "import os\n",
    "from dotenv import load_dotenv\n",
    "from IPython.display import Image, display\n",
    "from pprint import pprint\n",
    "from typing import List\n",
    "from typing_extensions import TypedDict"
   ]
  },
  {
   "cell_type": "code",
   "execution_count": 54,
   "metadata": {},
   "outputs": [],
   "source": [
    "from langchain import hub\n",
    "from langchain.llms import Ollama\n",
    "from langchain.text_splitter import RecursiveCharacterTextSplitter\n",
    "from langchain.prompts import PromptTemplate\n",
    "\n",
    "from langchain_core.output_parsers import StrOutputParser, JsonOutputParser\n",
    "from langchain_community.chat_models import ChatOllama\n",
    "from langchain_community.document_loaders import WebBaseLoader\n",
    "from langchain_community.vectorstores import Chroma\n",
    "from langchain_community.embeddings import OllamaEmbeddings\n",
    "from langchain_community.retrievers import ArxivRetriever\n",
    "\n",
    "from langgraph.graph import StateGraph, START, END"
   ]
  },
  {
   "cell_type": "code",
   "execution_count": 3,
   "metadata": {},
   "outputs": [],
   "source": [
    "load_dotenv()\n",
    "os.environ[\"LANGCHAIN_TRACING_V2\"] = \"true\"\n",
    "os.environ[\"LANGCHAIN_ENDPOINT\"] = \"https://api.smith.langchain.com\"\n",
    "os.environ[\"LANGCHAIN_API_KEY\"] = os.environ.get(\"LANGCHAIN_API_KEY\")"
   ]
  },
  {
   "cell_type": "markdown",
   "metadata": {},
   "source": [
    "### Indexing"
   ]
  },
  {
   "cell_type": "code",
   "execution_count": 31,
   "id": "01J5RD3VN0TJVK5GHBGGWQ8YJ7",
   "metadata": {},
   "outputs": [
    {
     "name": "stdout",
     "output_type": "stream",
     "text": [
      "{'Entry ID': 'http://arxiv.org/abs/2407.01219v1', 'Published': datetime.date(2024, 7, 1), 'Title': 'Searching for Best Practices in Retrieval-Augmented Generation', 'Authors': 'Xiaohua Wang, Zhenghua Wang, Xuan Gao, Feiran Zhang, Yixin Wu, Zhibo Xu, Tianyuan Shi, Zhengyuan Wang, Shizheng Li, Qi Qian, Ruicheng Yin, Changze Lv, Xiaoqing Zheng, Xuanjing Huang'}\n",
      "{'Entry ID': 'http://arxiv.org/abs/2407.01219v1', 'Published': '2024-07-01', 'Title': 'Searching for Best Practices in Retrieval-Augmented Generation', 'Authors': 'Xiaohua Wang, Zhenghua Wang, Xuan Gao, Feiran Zhang, Yixin Wu, Zhibo Xu, Tianyuan Shi, Zhengyuan Wang, Shizheng Li, Qi Qian, Ruicheng Yin, Changze Lv, Xiaoqing Zheng, Xuanjing Huang'}\n"
     ]
    }
   ],
   "source": [
    "rag_best_practices_url = \"https://arxiv.org/pdf/2407.01219\"\n",
    "\n",
    "arxiv_retriever = ArxivRetriever(load_max_docs=2)\n",
    "arxiv_docs = arxiv_retriever.invoke(\"2407.01219\", get_full_document=False, load_all_available_meta=False)\n",
    "print(arxiv_docs[0].metadata)\n",
    "for doc in arxiv_docs:\n",
    "    doc.metadata[\"Published\"] = str(doc.metadata[\"Published\"])\n",
    "print(arxiv_docs[0].metadata)"
   ]
  },
  {
   "cell_type": "code",
   "execution_count": 32,
   "metadata": {},
   "outputs": [],
   "source": [
    "urls = [\n",
    "    \"https://huyenchip.com/2024/01/16/sampling.html#constraint_sampling\",\n",
    "    \"https://huyenchip.com/2024/07/25/genai-platform.html\", \n",
    "]\n",
    "\n",
    "docs = [WebBaseLoader(url).load() for url in urls]\n",
    "docs_list = [item for sublist in docs for item in sublist]"
   ]
  },
  {
   "cell_type": "code",
   "execution_count": 33,
   "id": "01J5RDEB0TWSCTHC526TDZ5K1X",
   "metadata": {},
   "outputs": [
    {
     "data": {
      "text/plain": [
       "3"
      ]
     },
     "execution_count": 33,
     "metadata": {},
     "output_type": "execute_result"
    }
   ],
   "source": [
    "docs_list.extend(arxiv_docs)\n",
    "len(docs_list)"
   ]
  },
  {
   "cell_type": "markdown",
   "metadata": {},
   "source": [
    "### Retriever"
   ]
  },
  {
   "cell_type": "code",
   "execution_count": 35,
   "metadata": {},
   "outputs": [],
   "source": [
    "text_splitter = RecursiveCharacterTextSplitter.from_tiktoken_encoder(chunk_size=250, chunk_overlap=20)\n",
    "doc_splits = text_splitter.split_documents(docs_list)\n",
    "\n",
    "nomic137M_embeddings = OllamaEmbeddings(model=\"nomic-embed-text\")\n",
    "\n",
    "\n",
    "vectorstore = Chroma.from_documents(\n",
    "    documents=doc_splits,\n",
    "    collection_name = \"rag_best_approaches_genAI_apps\",\n",
    "    persist_directory=\"./vectorstore_files\",\n",
    "    embedding = nomic137M_embeddings,\n",
    ")\n",
    "\n",
    "rag_related_retriever = vectorstore.as_retriever()"
   ]
  },
  {
   "cell_type": "markdown",
   "metadata": {},
   "source": [
    "#### Retrieval grader: [llm as a judge]"
   ]
  },
  {
   "cell_type": "code",
   "execution_count": 36,
   "metadata": {},
   "outputs": [],
   "source": [
    "llm = ChatOllama(model=\"mistral\", format=\"json\", temperature=0)\n",
    "\n",
    "retrieval_grader_prompt = PromptTemplate(\n",
    "    template = \"\"\"You are a grader assessing the relevance of the retrieved document to a user question. \\n\n",
    "    If the doument contains keywords related to user's question, then grade it as relevant. \\n\n",
    "    It does not need to be a stringent test. The goal is to filter our erroneous retrievals. \\n\n",
    "    Give a binary score 'yes' or 'no' score to indicate whether the document is relevant to the question. \\n\n",
    "    Provide binary score as a JSON with a single key 'score' and no preamble or explanation. \\n\\n\n",
    "    User question: {question} \\n\n",
    "    Retrieved document: \\n\\n {document} \\n\\n\n",
    "\"\"\",\n",
    "input_variables = [\"question\", \"document\"]\n",
    ")\n",
    "\n",
    "retriever_grader_chain = retrieval_grader_prompt | llm | JsonOutputParser()"
   ]
  },
  {
   "cell_type": "code",
   "execution_count": 38,
   "metadata": {},
   "outputs": [
    {
     "name": "stderr",
     "output_type": "stream",
     "text": [
      "/home/srivatsa/my_jupyter_noteboks/agentic_and_rag/lang_chain/lang_graph/.venv/lib/python3.12/site-packages/langchain_core/_api/deprecation.py:141: LangChainDeprecationWarning: The method `BaseRetriever.get_relevant_documents` was deprecated in langchain-core 0.1.46 and will be removed in 1.0. Use invoke instead.\n",
      "  warn_deprecated(\n"
     ]
    },
    {
     "name": "stdout",
     "output_type": "stream",
     "text": [
      "Top-k\n",
      "Top-k is a sampling strategy to reduce the computation workload without sacrificing too much of the model’s response diversity. Recall that to compute the probability distribution over all possible values, a softmax layer is used. Softmax requires two passes over all possible values: one to perform the exponential sum \\(\\sum_j e^{x_j}\\) and one to perform \\(\\frac{e^{x_i}}{\\sum_j e^{x_j}}\\) for each value. For a language model with a large vocabulary, this process is computationally expensive.\n",
      "To avoid this problem, after the model has computed the logits, we pick the top k logits and perform softmax over these top k logits only. Depending on how diverse you want your application to be, k can be anywhere from 50 to 500, much smaller than a model’s vocabulary size. The model then samples from these top values. A smaller k value makes the text more predictable but less interesting, as the model is limited to a smaller set of likely words.\n",
      "Top-p\n",
      "{'score': 'yes'}\n",
      "{'score': 'yes'}\n",
      "{'score': 'yes'}\n",
      "{'score': 'no'}\n"
     ]
    }
   ],
   "source": [
    "question = \"top chunking strategies\"\n",
    "docs = rag_related_retriever.get_relevant_documents(question)\n",
    "sample_doc_text = docs[2].page_content\n",
    "print(sample_doc_text)\n",
    "for doc in docs:\n",
    "    print(retriever_grader_chain.invoke({\"question\": question, \"document\": doc.page_content}))"
   ]
  },
  {
   "cell_type": "markdown",
   "metadata": {},
   "source": [
    "#### Rag Chain"
   ]
  },
  {
   "cell_type": "code",
   "execution_count": 39,
   "metadata": {},
   "outputs": [
    {
     "name": "stdout",
     "output_type": "stream",
     "text": [
      "input_variables=['context', 'question'] metadata={'lc_hub_owner': 'rlm', 'lc_hub_repo': 'rag-prompt', 'lc_hub_commit_hash': '50442af133e61576e74536c6556cefe1fac147cad032f4377b60c436e6cdcb6e'} messages=[HumanMessagePromptTemplate(prompt=PromptTemplate(input_variables=['context', 'question'], template=\"You are an assistant for question-answering tasks. Use the following pieces of retrieved context to answer the question. If you don't know the answer, just say that you don't know. Use three sentences maximum and keep the answer concise.\\nQuestion: {question} \\nContext: {context} \\nAnswer:\"))]\n",
      "{\n",
      "\"top chunking strategies\": \"To learn more about chunking and the optimal chunk size, see Pinecone, Langchain, Llamaindex, and Greg Kamradt's tutorials.\",\n",
      "\"prompt cache\": \"Many prompts in an application have overlapping text segments. For example, all queries can share the same system prompt. A prompt cache stores these overlapping segments for reuse, so you only need to process them once.\",\n",
      "\"exact cache\": \"Exact cache is a more general and straightforward approach where your system stores processed items for reuse later when the exact items are requested. For example, if a user asks a model to summarize a product, the system checks the cache to see if a summary of this product is cached. If yes, fetch this summary. If not, summarize the product and cache the summary.\"\n",
      "}\n"
     ]
    }
   ],
   "source": [
    "rag_prompt = hub.pull(\"rlm/rag-prompt\")\n",
    "print(rag_prompt)\n",
    "\n",
    "def format_docs(docs):\n",
    "    return \"\\n\\n\".join(doc.page_content for doc in docs)\n",
    "\n",
    "rag_chain = rag_prompt | llm | StrOutputParser()\n",
    "\n",
    "generation = rag_chain.invoke({\"context\": docs, \"question\": question})\n",
    "print(generation)"
   ]
  },
  {
   "cell_type": "markdown",
   "metadata": {},
   "source": [
    "#### Hallucination Grader [llm as a judge]"
   ]
  },
  {
   "cell_type": "code",
   "execution_count": 40,
   "metadata": {},
   "outputs": [
    {
     "data": {
      "text/plain": [
       "{'score': 'yes'}"
      ]
     },
     "execution_count": 40,
     "metadata": {},
     "output_type": "execute_result"
    }
   ],
   "source": [
    "# Hallucination Grader\n",
    "\n",
    "prompt = PromptTemplate(\n",
    "    template = \"\"\"You are a grader assessing whether an answer is grounded in / supported by a set of facts. \\n\n",
    "    Facts:\n",
    "    \\n\\n\n",
    "    {documents}\n",
    "    \\n\\n\n",
    "    Answers: {generation}\n",
    "    Give a binary score 'yes' or 'no' score to indicate whether the answer is grounded in / supported by a set of facts. \\n\n",
    "    Provide the binary score as a JSON with a single key 'score' and no preamble or explanation.\"\"\",\n",
    "    input_variables = [\"generation\", \"documents\"]\n",
    ")\n",
    "\n",
    "hallucination_grader = prompt | llm | JsonOutputParser()\n",
    "hallucination_grader.invoke({\"documents\": docs, \"generation\": generation})"
   ]
  },
  {
   "cell_type": "markdown",
   "metadata": {},
   "source": [
    "#### Answer Grader"
   ]
  },
  {
   "cell_type": "code",
   "execution_count": 41,
   "id": "01J5RFD57VBCV73CAK1NSVA9MJ",
   "metadata": {},
   "outputs": [
    {
     "data": {
      "text/plain": [
       "{'score': 'yes'}"
      ]
     },
     "execution_count": 41,
     "metadata": {},
     "output_type": "execute_result"
    }
   ],
   "source": [
    "answer_grader_prompt = PromptTemplate(\n",
    "    template = \"\"\"You are a grader assessing whether an answer is useful to resolve a question. \\n\n",
    "    Give a binary score 'yes' or 'no' score to indicate whether the answer is useful to resolve a question. \\n\n",
    "    Provide the binary score as a JSON with a single key 'score' and no preamble or explanation.\\n\n",
    "    Question: {question}\\n\\n\n",
    "    Answer: {generation} \n",
    "    \"\"\",\n",
    "    input_variables = [\"question\", \"generation\"]\n",
    ")\n",
    "\n",
    "answer_grader = answer_grader_prompt | llm | JsonOutputParser()\n",
    "answer_grader.invoke({\"question\": question, \"generation\": generation})"
   ]
  },
  {
   "cell_type": "markdown",
   "metadata": {},
   "source": [
    "#### Query Rewriter"
   ]
  },
  {
   "cell_type": "code",
   "execution_count": 45,
   "id": "01J5RFVKDMGA25615BY6Z91FEH",
   "metadata": {},
   "outputs": [
    {
     "data": {
      "text/plain": [
       "'\\n    What are some effective top chunking strategies for improving vectorstore retrieval?'"
      ]
     },
     "execution_count": 45,
     "metadata": {},
     "output_type": "execute_result"
    }
   ],
   "source": [
    "llm_no_json = ChatOllama(model=\"mistral\", temperature=0) #the format is not json here\n",
    "\n",
    "re_write_prompt = PromptTemplate(\n",
    "    template = \"\"\"You are a question re-writer that converts an input question to a better version that is organized for vectorstore retrieval. \\n\n",
    "    Look at the initial and formulate an improved question. \\n\n",
    "    Here is the initial question: \\n \n",
    "    {question} \\n \n",
    "    Improved question with no preamble: \"\"\",\n",
    "    input_variables={\"question\": question}\n",
    ")\n",
    "\n",
    "question_rewriter = re_write_prompt | llm_no_json | StrOutputParser()\n",
    "question_rewriter.invoke({\"question\": question})"
   ]
  },
  {
   "cell_type": "markdown",
   "metadata": {},
   "source": [
    "## Capturing the flow in a Graph"
   ]
  },
  {
   "cell_type": "markdown",
   "metadata": {},
   "source": [
    "#### Graph State"
   ]
  },
  {
   "cell_type": "code",
   "execution_count": 46,
   "id": "01J5RGKH8THTH9AZ30QEXQ27PE",
   "metadata": {},
   "outputs": [],
   "source": [
    "class GraphState(TypedDict):\n",
    "    \"\"\"\n",
    "    Represents the state of our graph.\n",
    "\n",
    "    Attributes:\n",
    "        question: question\n",
    "        generation: LLM generation\n",
    "        documents: list of documents\n",
    "    \"\"\"\n",
    "    question: str\n",
    "    generation: str\n",
    "    documents: List[str]"
   ]
  },
  {
   "cell_type": "markdown",
   "metadata": {},
   "source": [
    "#### Graph Functions (Nodes)"
   ]
  },
  {
   "cell_type": "code",
   "execution_count": 67,
   "id": "01J5RGPBBWAJCNPRN7FNPBB03S",
   "metadata": {},
   "outputs": [],
   "source": [
    "def retrieve(state: GraphState) -> dict:\n",
    "    \"\"\"\n",
    "    Retrieve documents\n",
    "\n",
    "    Args:\n",
    "        state (dict): The current graph state\n",
    "\n",
    "    Returns:\n",
    "        state (dict): New key added to state, documents, that contains retrieved documents\n",
    "    \"\"\"\n",
    "    print(\"__Retrieve__\")\n",
    "    question = state[\"question\"]\n",
    "    documents = rag_related_retriever.get_relevant_documents(question)\n",
    "    return {\"documents\": documents, \"question\": question}\n",
    "\n",
    "def generate(state: GraphState) -> dict:\n",
    "    \"\"\"\n",
    "    Generate answer\n",
    "\n",
    "    Args:\n",
    "        state (dict): The current graph state\n",
    "\n",
    "    Returns:\n",
    "        state (dict): New key added to state, generation, that contains LLM generation\n",
    "    \"\"\"\n",
    "    print(\"__Generate__\")\n",
    "    question = state[\"question\"]\n",
    "    documents = state[\"documents\"]\n",
    "    generation = rag_chain.invoke({\"question\": question, \"context\": documents})\n",
    "    return {\"documents\": documents, \"question\": question, \"generation\":generation}\n",
    "\n",
    "def grade_documnents(state: GraphState) -> dict:\n",
    "    \"\"\"\n",
    "    Determines whether the retrieved documents are relevant to the question.\n",
    "\n",
    "    Args:\n",
    "        state (dict): The current graph state\n",
    "\n",
    "    Returns:\n",
    "        state (dict): Updates documents key with only filtered relevant documents\n",
    "    \"\"\"\n",
    "    print(\"__Check document relevance to question__\")\n",
    "    question = state[\"question\"]\n",
    "    documents = state[\"documents\"]\n",
    "    filtered_docs = []\n",
    "    for doc in documents:\n",
    "        result = retriever_grader_chain.invoke({\"question\": question, \"document\": doc.page_content})\n",
    "        grade = result[\"score\"]\n",
    "        if grade.lower() == \"yes\":\n",
    "            print(\"__document is deemed relevant__\")\n",
    "            filtered_docs.append(doc)\n",
    "        else:\n",
    "            print(\"__Document is irrelevant__\")\n",
    "    print(f\"__{len(filtered_docs)} out of {len(docs)} docs were deemed relevant__\")\n",
    "    return {\"document\": filtered_docs, \"question\": question}\n",
    "\n",
    "def transform_query(state: GraphState) -> dict:\n",
    "    \"\"\"\n",
    "    Transform the query to produce a better question.\n",
    "\n",
    "    Args:\n",
    "        state (dict): The current graph state\n",
    "\n",
    "    Returns:\n",
    "    \"\"\"\n",
    "    question = state[\"question\"]\n",
    "    documents = state[\"documents\"]\n",
    "    print(\"__Rewriting Question__\")\n",
    "    better_question = question_rewriter.invoke({\"question\": question})\n",
    "    print(\"Better question:\", better_question)\n",
    "    return {\"question\": better_question, \"documents\": documents}\n",
    "\n",
    "def decide_to_generate(state: GraphState) -> str:\n",
    "    \"\"\"\n",
    "    Determines whether to generate an answer, or re-generate a question.\n",
    "\n",
    "    Args:\n",
    "        state (dict): The current graph state\n",
    "\n",
    "    Returns:\n",
    "        str: Binary decision for next node to call\n",
    "    \"\"\"\n",
    "    question = state[\"question\"]\n",
    "    filtered_documents = state[\"documents\"]\n",
    "    if not filtered_documents:\n",
    "        print(\"__all documents are irrelevant to question__\")\n",
    "        return \"transform_query\"\n",
    "    else:\n",
    "        print(\"__Ready to generate__\")\n",
    "        return \"generate\"\n",
    "    \n",
    "def grade_generation_v_documents_and_question(state: GraphState) -> str:\n",
    "    \"\"\"\n",
    "    Determines whether the generation is grounded in the document and answers question.\n",
    "\n",
    "    Args:\n",
    "        state (dict): The current graph state\n",
    "\n",
    "    Returns:\n",
    "        str: Decision for next node to call\n",
    "    \"\"\"\n",
    "    print(\"__Checking for Hallucination__\")\n",
    "    question = state[\"question\"]\n",
    "    documents = state[\"documents\"]\n",
    "    generation = state[\"generation\"]\n",
    "\n",
    "    no_hallucination = hallucination_grader.invoke({\"documents\": documents, \"generation\": generation})\n",
    "    grade = no_hallucination[\"score\"]\n",
    "    if grade == \"yes\":\n",
    "        print(\"__Generation is grounded in documents__\")\n",
    "        #check question-answering\n",
    "        result = answer_grader.invoke({\"question\": question, \"generation\": generation})\n",
    "        grade = result[\"score\"]\n",
    "        if grade == \"yes\":\n",
    "            print(\"__Generation addresses question__\")\n",
    "            return \"useful\"\n",
    "        else:\n",
    "            print(\"__generation does not address the question__\")\n",
    "            return \"not_useful\"\n",
    "    else:\n",
    "        print(\"__Generation is not grounded in the documents; DECISION: __Re-Try__\")\n",
    "        return \"not_supported\""
   ]
  },
  {
   "cell_type": "markdown",
   "metadata": {},
   "source": [
    "#### Graph workflow"
   ]
  },
  {
   "cell_type": "code",
   "execution_count": 71,
   "id": "01J5RGCVKM1F7HA88XVH1CDMAC",
   "metadata": {},
   "outputs": [
    {
     "data": {
      "image/jpeg": "[encoded data removed]",
      "text/plain": [
       "<IPython.core.display.Image object>"
      ]
     },
     "metadata": {
      "image/jpeg": {
       "height": 750,
       "width": 800
      }
     },
     "output_type": "display_data"
    }
   ],
   "source": [
    "workflow = StateGraph(GraphState)\n",
    "\n",
    "#nodes\n",
    "workflow.add_node(\"retriever\", retrieve)\n",
    "workflow.add_node(\"documents_grader\", grade_documnents)\n",
    "workflow.add_node(\"answer_generator\", generate)\n",
    "workflow.add_node(\"query_transformer\", transform_query)\n",
    "\n",
    "#edges\n",
    "workflow.add_edge(START, \"retriever\")\n",
    "workflow.add_edge(\"retriever\", \"documents_grader\")\n",
    "workflow.add_conditional_edges(\n",
    "    \"documents_grader\",\n",
    "    decide_to_generate, #note that decide to generate is not a node; just a function\n",
    "    {\n",
    "        \"generate\": \"answer_generator\",\n",
    "        \"transform_query\": \"query_transformer\",\n",
    "    },\n",
    ")\n",
    "workflow.add_edge(\"query_transformer\", \"retriever\")\n",
    "workflow.add_conditional_edges(\n",
    "    \"answer_generator\",\n",
    "    grade_generation_v_documents_and_question,\n",
    "    {\n",
    "        \"useful\": END,\n",
    "        \"not_useful\": \"query_transformer\",\n",
    "        \"not_supported\": \"answer_generator\"\n",
    "    }\n",
    ")\n",
    "\n",
    "self_rag = workflow.compile()\n",
    "display(Image(self_rag.get_graph(xray=True).draw_mermaid_png(), height=750, width=800))"
   ]
  },
  {
   "cell_type": "code",
   "execution_count": 65,
   "id": "01J5RMHBM9XAWCD3R1KYGZ1J8Y",
   "metadata": {},
   "outputs": [],
   "source": [
    "# display(Image(self_rag.get_graph(xray=True).draw_mermaid_png(), height=1000, width=1000))"
   ]
  },
  {
   "cell_type": "code",
   "execution_count": 75,
   "id": "01J5RMN1KNXP3J8JTRKEAJ4B7P",
   "metadata": {},
   "outputs": [
    {
     "name": "stdout",
     "output_type": "stream",
     "text": [
      "Final Generation:\n",
      " {\n",
      "\"chunking\": \"cache\",\n",
      "\"strategies\": [\"prompt cache\", \"exact cache\"],\n",
      "\"description\": \"Cache techniques can significantly reduce your application’s latency and cost. Prompt cache are typically implemented by the inference APIs that you use. Exact cache is more general and straightforward, storing processed items for reuse later when the exact items are requested.\"\n",
      "}\n"
     ]
    }
   ],
   "source": [
    "def query(question:str):\n",
    "    inputs = {\"question\": question}\n",
    "    for output in self_rag.stream(inputs):\n",
    "        for key, value in output.items():\n",
    "            pprint(f\"Node: {key}:\")\n",
    "        pprint(\"\\n___________________________________\\n\")\n",
    "\n",
    "    print(\"Final Generation:\\n\",value[\"generation\"])"
   ]
  },
  {
   "cell_type": "code",
   "execution_count": null,
   "id": "01J5RQ6W68E43QYCP7MB9BQDZP",
   "metadata": {},
   "outputs": [],
   "source": []
  }
 ],
 "metadata": {
  "kernelspec": {
   "display_name": ".venv",
   "language": "python",
   "name": "python3"
  },
  "language_info": {
   "codemirror_mode": {
    "name": "ipython",
    "version": 3
   },
   "file_extension": ".py",
   "mimetype": "text/x-python",
   "name": "python",
   "nbconvert_exporter": "python",
   "pygments_lexer": "ipython3",
   "version": "3.12.3"
  }
 },
 "nbformat": 4,
 "nbformat_minor": 2
}
