{
 "cells": [
  {
   "cell_type": "code",
   "execution_count": null,
   "id": "01J9PJ21NJ37AXC118ADJP6AM2",
   "metadata": {},
   "outputs": [],
   "source": [
    "# %pip install llama-index-llms-ollama\n",
    "# %pip install llama-index-ollama-embeddings\n",
    "# %pip install llama-index llama-index-vector-stores-lancedb"
   ]
  },
  {
   "cell_type": "code",
   "execution_count": 22,
   "metadata": {},
   "outputs": [],
   "source": [
    "import os\n",
    "import tqdm\n",
    "import json\n",
    "from typing import List, Dict, Optional\n",
    "import logging\n",
    "\n",
    "from llama_index.core import (\n",
    "    SimpleDirectoryReader,\n",
    "    VectorStoreIndex,\n",
    "    StorageContext,\n",
    "    Settings,\n",
    "    Document\n",
    ")\n",
    "from llama_index.core.node_parser import SentenceSplitter\n",
    "from llama_index.embeddings.ollama import OllamaEmbedding\n",
    "from llama_index.llms.ollama import Ollama\n",
    "from llama_index.core.tools import FunctionTool, ToolOutput\n",
    "from llama_index.core.retrievers import VectorIndexRetriever\n",
    "from llama_index.core.agent import FunctionCallingAgentWorker\n",
    "from llama_index.core.agent import AgentRunner\n",
    "\n",
    "from llama_index.vector_stores.lancedb import LanceDBVectorStore\n"
   ]
  },
  {
   "cell_type": "markdown",
   "metadata": {},
   "source": [
    "### Setup LLM and Embedding Model in Settings Object"
   ]
  },
  {
   "cell_type": "code",
   "execution_count": 2,
   "id": "01J9PV2Y4867CEKYRBNBYCB7V8",
   "metadata": {},
   "outputs": [],
   "source": [
    "llm = Ollama(model=\"llama3.1\", base_url=\"http://localhost:11434\")\n",
    "embed_model = OllamaEmbedding(model_name=\"mxbai-embed-large\")\n",
    "\n",
    "Settings.chunk_size = 512\n",
    "Settings.embed_model = embed_model"
   ]
  },
  {
   "cell_type": "markdown",
   "metadata": {},
   "source": [
    "### Vector Stores Setup"
   ]
  },
  {
   "cell_type": "code",
   "execution_count": 3,
   "id": "01J9PJ6KESKAVNH39ZJSYBDR01",
   "metadata": {},
   "outputs": [],
   "source": [
    "problems_vector_store = LanceDBVectorStore(\n",
    "    uri=\"./lancedb\", \n",
    "    table_name=\"problems_table\",\n",
    "    mode=\"overwrite\"\n",
    ")\n",
    "\n",
    "parts_vector_store = LanceDBVectorStore(\n",
    "    uri=\"./lancedb\",\n",
    "    table_name=\"parts_table\",\n",
    "    mode=\"overwrite\",\n",
    ")\n",
    "\n",
    "diagnostics_vector_store = LanceDBVectorStore(\n",
    "    uri=\"./lancedb\",\n",
    "    table_name=\"diagnostics_table\",\n",
    "    mode=\"overwrite\",\n",
    ")\n",
    "\n",
    "cost_estimates_vector_store = LanceDBVectorStore(\n",
    "    uri=\"./lancedb\",\n",
    "    table_name=\"cost_estimates_table\",\n",
    "    mode=\"overwrite\",\n",
    ")\n",
    "\n",
    "maintenance_schedules_vector_store = LanceDBVectorStore(\n",
    "    uri=\"./lancedb\",\n",
    "    table_name=\"maintenance_schedules_table\",\n",
    "    mode=\"overwrite\",\n",
    ")\n",
    "\n",
    "cars_vector_store = LanceDBVectorStore(\n",
    "    uri=\"./lancedb\",\n",
    "    table_name=\"car_maintenance_table\",\n",
    "    mode=\"overwrite\",\n",
    ")"
   ]
  },
  {
   "cell_type": "code",
   "execution_count": 4,
   "id": "01J9PTE70QQPTMCHX6TD6D1V29",
   "metadata": {},
   "outputs": [],
   "source": [
    "def load_and_index_document_from_file(\n",
    "        file_path: str,\n",
    "        vector_store: LanceDBVectorStore\n",
    ") -> VectorStoreIndex:\n",
    "    \"\"\"load and index a document from a file\"\"\"\n",
    "    with open(file_path, \"r\") as file:\n",
    "        data = json.load(file)\n",
    "        document = Document(text=json.dumps(data))\n",
    "    parser = SentenceSplitter(chunk_size=1024, chunk_overlap=200)\n",
    "    nodes = parser.get_nodes_from_documents([document])\n",
    "    storage_context = StorageContext.from_defaults(vector_store=vector_store)\n",
    "    \n",
    "    return VectorStoreIndex(nodes, storage_context=storage_context)"
   ]
  },
  {
   "cell_type": "code",
   "execution_count": 5,
   "id": "01J9PTPN2F3A4RFMA6HPJXG8BC",
   "metadata": {},
   "outputs": [],
   "source": [
    "def create_retriever(index: VectorStoreIndex) -> VectorIndexRetriever:\n",
    "    return index.as_retriever(similarity_top_k=6)"
   ]
  },
  {
   "cell_type": "markdown",
   "metadata": {},
   "source": [
    "Load and index documents directly from file paths"
   ]
  },
  {
   "cell_type": "code",
   "execution_count": 6,
   "id": "01J9PTSDPCMTVABF9DV0TJVDHC",
   "metadata": {},
   "outputs": [],
   "source": [
    "problems_index = load_and_index_document_from_file(\n",
    "    file_path=\"./data/problems.json\",\n",
    "    vector_store=problems_vector_store,\n",
    ")\n",
    "\n",
    "parts_index = load_and_index_document_from_file(\n",
    "    file_path=\"./data/parts.json\",\n",
    "    vector_store=parts_vector_store\n",
    ")\n",
    "\n",
    "cars_index = load_and_index_document_from_file(\n",
    "    file_path=\"./data/cars_models.json\",\n",
    "    vector_store=cars_vector_store\n",
    ")\n",
    "\n",
    "cost_estimates_index = load_and_index_document_from_file(\n",
    "    file_path=\"./data/cost_estimates.json\",\n",
    "    vector_store=cost_estimates_vector_store\n",
    ")\n",
    "\n",
    "diagnostics_index = load_and_index_document_from_file(\n",
    "    file_path=\"./data/diagnostics.json\",\n",
    "    vector_store=diagnostics_vector_store\n",
    ")\n",
    "\n",
    "maintenance_schedules_index = load_and_index_document_from_file(\n",
    "    file_path=\"./data/maintenance.json\",\n",
    "    vector_store=maintenance_schedules_vector_store\n",
    ")"
   ]
  },
  {
   "cell_type": "markdown",
   "metadata": {},
   "source": [
    "Create Retrievers"
   ]
  },
  {
   "cell_type": "code",
   "execution_count": 7,
   "id": "01J9PV0C7AEYYC9ZT1S9WH3YSQ",
   "metadata": {},
   "outputs": [],
   "source": [
    "problems_retriever = create_retriever(problems_index)\n",
    "parts_retriever = create_retriever(parts_index)\n",
    "cars_retriever = create_retriever(cars_index)\n",
    "cost_estimates_retriever = create_retriever(cost_estimates_index)\n",
    "diagnostics_retriever = create_retriever(diagnostics_index)\n",
    "maintenance_schedules_retriever = create_retriever(maintenance_schedules_index)"
   ]
  },
  {
   "cell_type": "markdown",
   "metadata": {},
   "source": [
    "Testing the retrievers and query engine"
   ]
  },
  {
   "cell_type": "code",
   "execution_count": 8,
   "id": "01J9PVBQABF1RNYBFVJPC3MF5G",
   "metadata": {},
   "outputs": [
    {
     "name": "stdout",
     "output_type": "stream",
     "text": [
      "Response:  A brake pad replacement is likely needed. The average cost for this repair is $150, with a minimum of $100 and a maximum of $300.\n",
      "Result - Node ID: a9dffbb2-7565-4f37-a063-a232b460133c\n",
      "Relevant Text: \"max\": 600}}, {\"repair\": \"Fuel Pump Replacement\", \"average_cost\": 500, \"cost_range\": {\"min\": 400, \"max\": 700}}, {\"repair\": \"AC Compressor Replacement\"...\n",
      "Score: 0.000\n",
      "Result - Node ID: f799fd76-8ee9-4bbf-8975-2886b58ec85c\n",
      "Relevant Text: [{\"repair\": \"Brake pad replacement\", \"average_cost\": 150, \"cost_range\": {\"min\": 100, \"max\": 300}}, {\"repair\": \"Oil change\", \"average_cost\": 50, \"cost_...\n",
      "Score: 0.000\n"
     ]
    }
   ],
   "source": [
    "sample_query = \"My brake pad isn't working or I don't know, but the brakes are poor, and by the way, what's the cost for the solution?\"\n",
    "sample_query_engine = cost_estimates_index.as_query_engine(llm=llm, embed_model=embed_model)\n",
    "sample_retrieved_nodes = cost_estimates_retriever.retrieve(sample_query)\n",
    "\n",
    "sample_response = sample_query_engine.query(sample_query)\n",
    "\n",
    "print(\"Response: \", sample_response)\n",
    "\n",
    "# Print only relevant information from results\n",
    "for result in sample_retrieved_nodes:\n",
    "    print(f\"Result - Node ID: {result.node_id}\")\n",
    "    print(f\"Relevant Text: {result.text[:150]}...\")\n",
    "    print(f\"Score: {result.score:.3f}\")"
   ]
  },
  {
   "cell_type": "markdown",
   "metadata": {},
   "source": [
    "#### Creating Functools and setting up the agent"
   ]
  },
  {
   "cell_type": "code",
   "execution_count": 9,
   "id": "01J9S42ZPTY6X0HQ9P4JXZY9RC",
   "metadata": {},
   "outputs": [],
   "source": [
    "max_context_information = 200"
   ]
  },
  {
   "cell_type": "markdown",
   "metadata": {},
   "source": [
    "1. Retrieval Tools"
   ]
  },
  {
   "cell_type": "code",
   "execution_count": 18,
   "id": "01J9S2MJBQZ6NGZ90QH5JEXHW7",
   "metadata": {},
   "outputs": [],
   "source": [
    "def retrieve_problems(query: str) -> str:\n",
    "    \"\"\"Searches the problem catalog to find relevant automotive problems for given query\"\"\"\n",
    "    docs = problems_retriever.retrieve(query)\n",
    "    information = str([doc.text[:max_context_information] for doc in docs])\n",
    "    return information\n",
    "\n",
    "def retrieve_parts(query: str) -> str:\n",
    "    \"\"\"Searches the parts catalog to find relevant automotive parts for given query\"\"\"\n",
    "    docs = parts_retriever.retrieve(query)\n",
    "    information = str([doc.text[:max_context_information] for doc in docs])\n",
    "    return information\n",
    "\n",
    "def retrieve_cars(query: str) -> str:\n",
    "    \"\"\"Searches the cars catalog to find relevant automotive cars for given query\"\"\"\n",
    "    docs = cars_retriever.retrieve(query)\n",
    "    information = str([doc.text[:max_context_information] for doc in docs])\n",
    "    return information\n",
    "\n",
    "def retrieve_cost_estimates(query: str) -> str:\n",
    "    \"\"\"Searches the cost estimates catalog to find relevant automotive cost estimates for given query\"\"\"\n",
    "    docs = cost_estimates_retriever.retrieve(query)\n",
    "    information = str([doc.text[:max_context_information] for doc in docs])\n",
    "    return information\n",
    "\n",
    "def retrieve_diagnosis(query: str) -> str:\n",
    "    \"\"\"Searches the diagnostics catalog to find relevant automotive diagnostics for given query\"\"\"\n",
    "    docs = diagnostics_retriever.retrieve(query)\n",
    "    information = str([doc.text[:max_context_information] for doc in docs])\n",
    "    return information\n",
    "\n",
    "def retrieve_maintenance_schedules(query: str) -> str:\n",
    "    \"\"\"Searches the maintenance schedules catalog to find relevant automotive maintenance schedules for given query\"\"\"\n",
    "    docs = maintenance_schedules_retriever.retrieve(query)\n",
    "    information = str([doc.text[:max_context_information] for doc in docs])\n",
    "    return information    "
   ]
  },
  {
   "cell_type": "markdown",
   "metadata": {},
   "source": [
    "2. Additional Tools"
   ]
  },
  {
   "cell_type": "code",
   "execution_count": 19,
   "id": "01J9S480NSX5GENJQWD2NBK9EJ",
   "metadata": {},
   "outputs": [],
   "source": [
    "def comprehensive_diagnosis(symptoms: str) -> str:\n",
    "    \"\"\"\n",
    "    Provides a comprehensive diagnostic including possible causes, estimated costs, and required parts.\n",
    "\n",
    "    Args:\n",
    "        symptoms: A string describing the symptoms of the car\n",
    "    Returns:\n",
    "        A string with the comprehensive diagnostic report\n",
    "    \"\"\"\n",
    "    #use existing tools to get information\n",
    "    possible_causes = retrieve_diagnosis(symptoms)\n",
    "\n",
    "    #extract the most likely cause (this is a simplification)\n",
    "    likely_cause = possible_causes[0] if possible_causes else \"Unknown issue\"\n",
    "    estimated_cost = retrieve_cost_estimates(likely_cause)\n",
    "    required_parts = retrieve_parts(likely_cause)\n",
    "\n",
    "    #construct the report\n",
    "    report = f\"Comprehensive Diagnostic Report\\n\\n\"\n",
    "    report += f\"Symptoms: {symptoms}\\n\\n\"\n",
    "    report += f\"Possible Causes: \\n{possible_causes}\\n\\n\"\n",
    "    report += f\"Most Likely Cause: \\n{likely_cause}\\n\\n\"\n",
    "    report += f\"Estimated Cost: \\n{estimated_cost}\\n\\n\"\n",
    "    report += f\"Required Parts: \\n{required_parts}\\n\\n\"\n",
    "    report += \"Please note that this is a simplified diagnostic report. For a detailed and accurate diagnosis, consider consulting a professional mechanic.\"\n",
    "    \n",
    "    return report"
   ]
  },
  {
   "cell_type": "code",
   "execution_count": 12,
   "id": "01J9SBB4K261A9DPC9J17RK372",
   "metadata": {},
   "outputs": [],
   "source": [
    "def get_car_model_info(mileage: int, car_make: str, car_model: str, car_year: int) -> dict:\n",
    "    \"\"\"Retrieve car model information from cars_models.json file\"\"\"\n",
    "    with open(\"./data/cars_models.json\", \"r\") as file:\n",
    "        cars_models = json.load(file)\n",
    "\n",
    "        for car in cars_models:\n",
    "            if (\n",
    "                car[\"car_make\"].lower() == car_make.lower() and\n",
    "                car[\"car_model\"].lower() == car_model.lower() and\n",
    "                car[\"car_year\"] == car_year\n",
    "            ):\n",
    "                return car\n",
    "    return {}    \n",
    "    "
   ]
  },
  {
   "cell_type": "code",
   "execution_count": 13,
   "id": "01J9SBGBTXSN32CF7NJ8M881BC",
   "metadata": {},
   "outputs": [],
   "source": [
    "def retrieve_car_details(make:str, model:str, year:int) -> str:\n",
    "    \"\"\"Retrieves the make, model, and year of the car and return the common issues if any\"\"\"\n",
    "    car_details = get_car_model_info(0, make, model, year)\n",
    "    if car_details:\n",
    "        return f\"{year} {make} {model} might have the following common issues: {', '.join(car_details['common_issues'])}\"\n",
    "    return f\"No common issues found for {make} {model} {year}.\"\n",
    "\n"
   ]
  },
  {
   "cell_type": "code",
   "execution_count": 15,
   "id": "01J9SBPW7XK7QGK03KKSYZA3M0",
   "metadata": {},
   "outputs": [],
   "source": [
    "def plan_maintenance(mileage:int, car_make:str, car_model:str, car_year:int) -> str:\n",
    "    \"\"\"\n",
    "    Creates a comprehensive maintenance plan based on the car's mileage and details.\n",
    "\n",
    "    Args:\n",
    "        mileage: The current mileage of the car.\n",
    "        car_make: The make of the car.\n",
    "        car_model: The model of the car.\n",
    "        car_year: The year the car was manufactured.\n",
    "\n",
    "    Returns:\n",
    "        A string with a comprehensive maintenance plan.\n",
    "    \"\"\"\n",
    "    car_details = retrieve_car_details(car_make, car_model, car_year)\n",
    "    car_model_info = get_car_model_info(0, car_make, car_model, car_year)\n",
    "    \n",
    "    plan = f\"Maintenance Plan for {car_make} {car_model} {car_year} at {mileage} miles\\n\\n\"\n",
    "    plan += f\"Car Details: {car_details}\\n\\n\"\n",
    "\n",
    "    if car_model_info:\n",
    "        plan += f\"Common Issues:\\n\"\n",
    "        for issue in car_model_info['common_issues']:\n",
    "            plan += f\"- {issue}\\n\"\n",
    "        plan += f\"\\nEstimated Time: {car_model_info['estimated_time']}\\n\\n\"\n",
    "    else:\n",
    "        plan += f\"No common issues found for {car_make} {car_model} {car_year}.\"\n",
    "    \n",
    "    \n"
   ]
  },
  {
   "cell_type": "code",
   "execution_count": 17,
   "id": "01J9SCSPV10XCRDPZEGEYFN72V",
   "metadata": {},
   "outputs": [],
   "source": [
    "from datetime import datetime, timedelta\n",
    "\n",
    "def create_calander_invite(event_type: str, car_details: str, duration: int = 60) -> str:\n",
    "    \"\"\"\n",
    "    Simulates creating a calendar invite for a car maintenance or repair event.\n",
    "\n",
    "    Args:\n",
    "        event_type: The type of event (e.g., \"Oil Change\", \"Brake Inspection\").\n",
    "        car_details: Details of the car (make, model, year).\n",
    "        duration: Duration of the event in minutes (default is 60).\n",
    "\n",
    "    Returns:\n",
    "        A string describing the calendar invite.\n",
    "    \"\"\"\n",
    "    event_date = datetime.now() + timedelta(days=7)\n",
    "    event_time = event_date.replace(hour=10, minute=0, second=0, microsecond=0)\n",
    "\n",
    "    invite = f\"Calendar Invite Created:\\n\\n\"\n",
    "    invite += f\"Event: {event_type} for {car_details}\\n\"\n",
    "    invite += f\"Date: {event_time.strftime('%Y-%m-%d')}\\n\"\n",
    "    invite += f\"Time: {event_time.strftime('%I:%M %p')}\\n\"\n",
    "    invite += f\"Duration: {duration} minutes\\n\"\n",
    "    invite += f\"Location: Your Trusted Auto Shop, 90 Main St, Toronto, Canada\\n\\n\"\n",
    "\n",
    "    return invite"
   ]
  },
  {
   "cell_type": "code",
   "execution_count": 20,
   "id": "01J9SD3DBZ8NKAP0QQBHZYZVYH",
   "metadata": {},
   "outputs": [],
   "source": [
    "def coordinate_car_care(query: str, car_make: str, car_model: str, car_year: int, mileage: int) -> str:\n",
    "    \"\"\"\n",
    "    Coordinates overall car care by integrating diagnosis, maintenance planning, and scheduling.\n",
    "\n",
    "    Args:\n",
    "        query: The user's query or description of the issue.\n",
    "        car_make: The make of the car.\n",
    "        car_model: The model of the car.\n",
    "        car_year: The year the car was manufactured.\n",
    "        mileage: The current mileage of the car.\n",
    "\n",
    "    Returns:\n",
    "        A string with a comprehensive car care plan.\n",
    "    \"\"\"\n",
    "    car_details = retrieve_car_details(car_make, car_model, car_year)\n",
    "    if \"problem\" in query.lower() or \"issue\" in query.lower():\n",
    "        diagnosis = comprehensive_diagnosis(query)\n",
    "        plan = f\"Based on the query, here is a diagnosis: {diagnosis}\\n\\n\"\n",
    "        likely_cause = diagnosis.split(\"Most Likely Cause: \\n\")[1].split(\"\\n\")[0].strip()\n",
    "        invite = create_calander_invite(\"Car Repair: {likely_cause}\", car_details)\n",
    "        plan += f\"I've prepared a calendar invite for the repair:\\n\\n{invite}\\n\\n\"\n",
    "    else:\n",
    "        maintenance_plan = plan_maintenance(mileage, car_make, car_model, car_year)\n",
    "        plan += f\"Based on the query, here is a maintenance plan: {maintenance_plan}\\n\\n\"\n",
    "        next_task = maintenance_plan.split(\"Task: \")[1].split(\"\\n\")[0].strip()\n",
    "        invite = create_calander_invite(f\"Maintenance: {next_task}\", car_details)\n",
    "        plan += f\"I've prepared a calendar invite for your next maintenance task:\\n\\n{invite}\\n\\n\"\n",
    "    \n",
    "    plan += \"Remember to consult with a professional mechanic for presonalized advice and services.\"\n",
    "\n",
    "    return plan    "
   ]
  },
  {
   "cell_type": "code",
   "execution_count": 21,
   "id": "01J9SDV8YRVPYJXYCVFJ4F7SG5",
   "metadata": {},
   "outputs": [],
   "source": [
    "retrieve_problems_tool = FunctionTool.from_defaults(fn=retrieve_problems)\n",
    "retrieve_parts_tool = FunctionTool.from_defaults(fn=retrieve_parts)\n",
    "diagnostic_tool = FunctionTool.from_defaults(fn=retrieve_diagnosis)\n",
    "cost_estimates_tool = FunctionTool.from_defaults(fn=retrieve_cost_estimates)\n",
    "maintenance_schedules_tool = FunctionTool.from_defaults(fn=retrieve_maintenance_schedules)\n",
    "comprehensive_diagnosis_tool = FunctionTool.from_defaults(fn=comprehensive_diagnosis)\n",
    "maintenance_plan_tool = FunctionTool.from_defaults(fn=plan_maintenance)\n",
    "calender_invite_tool = FunctionTool.from_defaults(fn=create_calander_invite)\n",
    "car_care_coordinator_tool = FunctionTool.from_defaults(fn=coordinate_car_care)\n",
    "retrieve_car_details_tool = FunctionTool.from_defaults(fn=retrieve_car_details)\n",
    "\n",
    "tools = [\n",
    "    retrieve_problems_tool,\n",
    "    retrieve_parts_tool,\n",
    "    diagnostic_tool,\n",
    "    cost_estimates_tool,\n",
    "    maintenance_schedules_tool,\n",
    "    comprehensive_diagnosis_tool,\n",
    "    maintenance_plan_tool,\n",
    "    calender_invite_tool,\n",
    "    car_care_coordinator_tool,\n",
    "    retrieve_car_details_tool\n",
    "]\n"
   ]
  },
  {
   "cell_type": "code",
   "execution_count": 23,
   "id": "01J9SE5HR5VA9F4SYY1ZKNTFV8",
   "metadata": {},
   "outputs": [],
   "source": [
    "def reset_agent_memory():\n",
    "    global agent_worker, agent\n",
    "    agent_worker = FunctionCallingAgentWorker.from_tools(tools, llm=llm, verbose=True)\n",
    "    agent = AgentRunner(agent_worker)\n",
    "\n",
    "#intialize the agent\n",
    "reset_agent_memory()"
   ]
  },
  {
   "cell_type": "code",
   "execution_count": 24,
   "id": "01J9SEB3Z6W60QGAC22S7Q90RK",
   "metadata": {},
   "outputs": [
    {
     "name": "stdout",
     "output_type": "stream",
     "text": [
      "Added user message to memory: My car has 20,000 miles on it and I need to know when to change the oil?\n",
      "=== LLM Response ===\n",
      "Typically, oil changes are recommended every 5,000 to 7,500 miles for most vehicles. However, this can vary depending on the type of vehicle you have.\n",
      "\n",
      "Here are some general guidelines:\n",
      "\n",
      "*   For gasoline engines: Change oil every 5,000 to 7,500 miles.\n",
      "*   For diesel engines: Change oil every 10,000 to 15,000 miles.\n",
      "*   If your car has a turbocharger: Change oil every 3,000 to 5,000 miles.\n",
      "*   If you live in an area with extreme temperatures (very hot or very cold): Change oil every 3,000 to 5,000 miles.\n",
      "\n",
      "It's always best to check your owner's manual for the recommended oil change interval for your specific vehicle.\n"
     ]
    }
   ],
   "source": [
    "response = agent.chat(\"My car has 20,000 miles on it and I need to know when to change the oil?\")"
   ]
  },
  {
   "cell_type": "code",
   "execution_count": 25,
   "id": "01J9SEDF3KVD323VSH6ZMJ109Q",
   "metadata": {},
   "outputs": [
    {
     "name": "stdout",
     "output_type": "stream",
     "text": [
      "Added user message to memory: What will be the cost of an oil change ?\n",
      "=== LLM Response ===\n",
      "The cost of an oil change can vary depending on several factors, including:\n",
      "\n",
      "*   The type of oil used (conventional, synthetic, or high-performance)\n",
      "*   The location where you get the oil changed ( dealership, independent mechanic, or quick lube)\n",
      "*   Any additional services performed during the oil change (such as a tire rotation or brake pad inspection)\n",
      "\n",
      "On average, here are some estimated costs for an oil change:\n",
      "\n",
      "*   Conventional oil change: $25 to $50\n",
      "*   Synthetic oil change: $40 to $70\n",
      "*   High-performance oil change: $60 to $90\n",
      "\n",
      "It's also worth noting that some oil changes may include additional services, such as a tire rotation or brake pad inspection, which can add to the overall cost. Always check with your mechanic for an accurate estimate of the cost.\n",
      "\n",
      "In general, it's recommended to get an oil change every 5,000 to 7,500 miles to keep your engine running smoothly and prolong its lifespan.\n"
     ]
    },
    {
     "data": {
      "text/plain": [
       "AgentChatResponse(response=\"The cost of an oil change can vary depending on several factors, including:\\n\\n*   The type of oil used (conventional, synthetic, or high-performance)\\n*   The location where you get the oil changed ( dealership, independent mechanic, or quick lube)\\n*   Any additional services performed during the oil change (such as a tire rotation or brake pad inspection)\\n\\nOn average, here are some estimated costs for an oil change:\\n\\n*   Conventional oil change: $25 to $50\\n*   Synthetic oil change: $40 to $70\\n*   High-performance oil change: $60 to $90\\n\\nIt's also worth noting that some oil changes may include additional services, such as a tire rotation or brake pad inspection, which can add to the overall cost. Always check with your mechanic for an accurate estimate of the cost.\\n\\nIn general, it's recommended to get an oil change every 5,000 to 7,500 miles to keep your engine running smoothly and prolong its lifespan.\", sources=[], source_nodes=[], is_dummy_stream=False, metadata=None)"
      ]
     },
     "execution_count": 25,
     "metadata": {},
     "output_type": "execute_result"
    }
   ],
   "source": [
    "agent.chat(\"What will be the cost of an oil change ?\")"
   ]
  },
  {
   "cell_type": "code",
   "execution_count": 26,
   "id": "01J9SEFKA7GNA7VQE4H29E8N2G",
   "metadata": {},
   "outputs": [
    {
     "name": "stdout",
     "output_type": "stream",
     "text": [
      "Added user message to memory: I have a honda accor of 2017 model and it's mileage is 30000 right now, what are some common issues?\n",
      "=== LLM Response ===\n",
      "A 2017 Honda Accord with 30,000 miles is still relatively young and has likely had regular maintenance done on it. However, like any vehicle, it may start to experience some common issues as it ages.\n",
      "\n",
      "Here are some potential problems to be aware of:\n",
      "\n",
      "*   **Faulty Oxygen Sensor:** The oxygen sensor is a crucial component that monitors the air-fuel mixture in your engine. A faulty oxygen sensor can cause the engine to run rich or lean, which can lead to decreased performance and fuel efficiency.\n",
      "*   **Worn Out Timing Chain:** The timing chain is responsible for keeping the engine's valves in sync with its pistons. Over time, it may wear out, causing problems like rough idling, stalling, or even engine failure.\n",
      "*   **Faulty CV Boots:** The CV (Constant Velocity) boots connect your car's axles to its wheels. If they crack or tear, it can cause vibrations and make the steering feel loose.\n",
      "*   **Loose or Worn Out Belt Tensioners:** Belt tensioners keep the belts that power various accessories like the alternator, water pump, and air conditioning compressor in place. A worn-out belt tensioner can cause these belts to slip, leading to premature wear and potential engine damage.\n",
      "*   **Clogged Air Filter:** A dirty or clogged air filter can decrease your car's performance, fuel efficiency, and even lead to engine problems.\n",
      "\n",
      "Regular maintenance and inspections are key to identifying and addressing these issues early on. It's recommended to follow the manufacturer's schedule for oil changes and other routine services. If you're unsure about any of these points or have concerns about your vehicle, it's always best to consult a professional mechanic.\n"
     ]
    }
   ],
   "source": [
    "response = agent.chat(\n",
    "    \"I have a honda accor of 2017 model and it's mileage is 30000 right now, what are some common issues?\"\n",
    ")"
   ]
  },
  {
   "cell_type": "code",
   "execution_count": 27,
   "id": "01J9SEHPPQSQY6R59XQ1W52W7H",
   "metadata": {},
   "outputs": [
    {
     "name": "stdout",
     "output_type": "stream",
     "text": [
      "Added user message to memory: Can you help me with these issues, I want to do some maintenance and what's the cost for all of this services? for parts and all which will be required\n",
      "=== LLM Response ===\n",
      "I can provide information on the potential costs associated with the services you mentioned.\n",
      "\n",
      "**Costs:**\n",
      "\n",
      "*   **Faulty Oxygen Sensor:** The cost of a new oxygen sensor varies depending on the type and quality. On average, it can range from $20 to $50.\n",
      "*   **Worn Out Timing Chain:** A timing chain replacement typically involves replacing both the timing chain and the water pump. This can cost between $500 to $1,000.\n",
      "*   **Faulty CV Boots:** The cost of a new CV boot set varies depending on the quality and brand. On average, it can range from $20 to $50 for a single boot or $100 to $200 for a complete set.\n",
      "*   **Loose or Worn Out Belt Tensioners:** A new belt tensioner typically costs between $10 to $30.\n",
      "*   **Clogged Air Filter:** The cost of a new air filter varies depending on the type and quality. On average, it can range from $5 to $20.\n",
      "\n",
      "**Labor Costs:**\n",
      "\n",
      "The labor costs for these services vary depending on your location, mechanic's expertise, and the complexity of the job. However, here are some estimated labor costs:\n",
      "\n",
      "*   **Faulty Oxygen Sensor:** $50 to $100\n",
      "*   **Worn Out Timing Chain:** $200 to $400\n",
      "*   **Faulty CV Boots:** $50 to $100\n",
      "*   **Loose or Worn Out Belt Tensioners:** $20 to $50\n",
      "*   **Clogged Air Filter:** $10 to $30\n",
      "\n",
      "**Total Estimated Cost:**\n",
      "\n",
      "The total estimated cost for these services would be:\n",
      "\n",
      "*   **Faulty Oxygen Sensor:** $70 to $150\n",
      "*   **Worn Out Timing Chain:** $700 to $1,400\n",
      "*   **Faulty CV Boots:** $70 to $150\n",
      "*   **Loose or Worn Out Belt Tensioners:** $30 to $80\n",
      "*   **Clogged Air Filter:** $15 to $50\n",
      "\n",
      "Please note that these estimates are based on national averages and may vary depending on your location and the specific services required. It's always best to consult with a professional mechanic for an accurate estimate of the costs involved.\n"
     ]
    }
   ],
   "source": [
    "response = agent.chat(\n",
    "    \"Can you help me with these issues, I want to do some maintenance and what's the cost for all of this services? for parts and all which will be required\"\n",
    ")"
   ]
  },
  {
   "cell_type": "code",
   "execution_count": null,
   "id": "01J9SEK5RGN8TNCNFM8V2SCTPQ",
   "metadata": {},
   "outputs": [],
   "source": []
  }
 ],
 "metadata": {
  "kernelspec": {
   "display_name": "llamaindex-py3.9",
   "language": "python",
   "name": "llamaindex-py3.9"
  },
  "language_info": {
   "codemirror_mode": {
    "name": "ipython",
    "version": 3
   },
   "file_extension": ".py",
   "mimetype": "text/x-python",
   "name": "python",
   "nbconvert_exporter": "python",
   "pygments_lexer": "ipython3",
   "version": "3.10.12"
  }
 },
 "nbformat": 4,
 "nbformat_minor": 2
}
